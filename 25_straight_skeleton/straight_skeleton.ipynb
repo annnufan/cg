{
 "cells": [
  {
   "cell_type": "markdown",
   "metadata": {
    "collapsed": true
   },
   "source": [
    "# Straight skeleton"
   ]
  },
  {
   "cell_type": "markdown",
   "metadata": {},
   "source": [
    "## Определение\n",
    "**Скелет** — множество точек, равноудаленных от границ фигуры. Интуитивное понимание: берем все стороны фигуры и начинаем с постоянной скоростью сдвигать \"внутрь\" параллельно себе. Точка в скелете — место пересечения хотя бы двух несмежных сторон.\n",
    "\n",
    "**Straight skeleton** — метод представления многоугольника его топологическим скелетом. То есть множество кривых, по которым проходят вершины многоугольника в процессе сжатия."
   ]
  },
  {
   "cell_type": "markdown",
   "metadata": {},
   "source": [
    "## Постановка задачи\n",
    "Дан прямоугольник $P$, в котором $n$ вершин. Известно, что он может быть и выпуклым, и невыпуклым. А также может содержать дырки. Мы хотим получить его straight skeleton."
   ]
  },
  {
   "cell_type": "markdown",
   "metadata": {},
   "source": [
    "### Выпуклый многоугольник\n",
    "Решим сначала более простую задачу. Пусть известно, что $P$ — выпуклый без дырок.\n",
    "\n",
    "Будем называть точку из скелета $edge event$. Тогда для построение straight skeleton сортируем $edge event$ по расстроянию до сторон многоугольника."
   ]
  },
  {
   "cell_type": "markdown",
   "metadata": {},
   "source": [
    "### Невыпуклый многоугольник. Felkel's algorithm\n",
    "До этого существовали только $edge event$. Сейчас же введем понятие $split event$: в результате пересечения двух сторон исходный многоугольник распался на несколько.\n",
    "\n",
    "За $O(n^2)$ можно перебрать все пары вершин, и проверить, порождают ли они $split event$."
   ]
  }
 ],
 "metadata": {
  "kernelspec": {
   "display_name": "Python 3",
   "language": "python",
   "name": "python3"
  },
  "language_info": {
   "codemirror_mode": {
    "name": "ipython",
    "version": 3
   },
   "file_extension": ".py",
   "mimetype": "text/x-python",
   "name": "python",
   "nbconvert_exporter": "python",
   "pygments_lexer": "ipython3",
   "version": "3.6.2"
  }
 },
 "nbformat": 4,
 "nbformat_minor": 2
}
